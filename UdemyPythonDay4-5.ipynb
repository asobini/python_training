{
 "cells": [
  {
   "cell_type": "code",
   "execution_count": 18,
   "id": "25018dcc-d93c-4c76-8239-7712fc7bee9d",
   "metadata": {},
   "outputs": [
    {
     "name": "stdout",
     "output_type": "stream",
     "text": [
      "1\n",
      "0.0450828472627367\n",
      "4.8112094330977495\n"
     ]
    }
   ],
   "source": [
    "import random\n",
    "\n",
    "random_integer = random.randint(1,12)\n",
    "print(random_integer)\n",
    "\n",
    "#Creating random floating point numbers\n",
    "random_number_0_to_1 = random.random()\n",
    "print(random_number_0_to_1)\n",
    "\n",
    "# Random_Floating point number generation with two boarders\n",
    "random_float = random.uniform(1,10)\n",
    "print(random_float)"
   ]
  },
  {
   "cell_type": "code",
   "execution_count": 22,
   "id": "ffd0ceda-e265-4f2e-97d5-fdd6f3b24d09",
   "metadata": {},
   "outputs": [
    {
     "name": "stdout",
     "output_type": "stream",
     "text": [
      "Heads\n"
     ]
    }
   ],
   "source": [
    "# short code to program heads or tails\n",
    "\n",
    "random_integer = random.randint(1,2)\n",
    "if random_integer == 1:\n",
    "    print(\"Heads\")\n",
    "else: \n",
    "    print(\"Tails\")"
   ]
  },
  {
   "cell_type": "code",
   "execution_count": 44,
   "id": "76cb948e-c38f-4f2f-91b6-080da1dcdb5d",
   "metadata": {},
   "outputs": [
    {
     "name": "stdout",
     "output_type": "stream",
     "text": [
      "Pennsylvania\n",
      "Georgia\n",
      "['Delaware', 'Pennsylvania', 'New Jersey', 'Georgia', 'Florida']\n",
      "['Delaware', 'Pennsylvania', 'New Jersey', 'Georgia', 'Florida', 'California', 'Virginia', 'Kansas', 'South Carolina']\n",
      "9\n"
     ]
    }
   ],
   "source": [
    "# Lists in Python\n",
    "states_of_america = [\"Delaware\", \"Pennsylvania\", \"New Jersey\", \"Georgia\"]\n",
    "print(states_of_america[1])\n",
    "print(states_of_america[-1])\n",
    "\n",
    "# add / append items to list\n",
    "states_of_america.append(\"Florida\")\n",
    "print(states_of_america)\n",
    "## extend list with multiple items\n",
    "states_of_america.extend([\"California\", \"Virginia\", \"Kansas\", \"South Carolina\"])\n",
    "print(states_of_america)\n",
    "print(len(states_of_america))"
   ]
  },
  {
   "cell_type": "code",
   "execution_count": 42,
   "id": "93f37c7f-86e9-40a6-a157-93253aad096e",
   "metadata": {},
   "outputs": [
    {
     "name": "stdout",
     "output_type": "stream",
     "text": [
      "Steve\n"
     ]
    }
   ],
   "source": [
    "## Code challange - Who pays the bill\n",
    "import random\n",
    "friends_list = [\"Alicia\", \"Ali\", \"Sam\", \"Steve\", \"Peter\"]\n",
    "print(friends_list[random.randint(0,4)])\n",
    "\n",
    "# alternative way\n",
    "print(random.choice(friends_list))"
   ]
  },
  {
   "cell_type": "code",
   "execution_count": 50,
   "id": "994fd183-8681-4bd1-a72a-36b575739c1c",
   "metadata": {},
   "outputs": [
    {
     "name": "stdout",
     "output_type": "stream",
     "text": [
      "[['apple', 'banana', 'kiwi'], ['potatos', 'onion', 'kale']]\n",
      "potatos\n"
     ]
    }
   ],
   "source": [
    "## nested lists\n",
    "fruits = [\"apple\", \"banana\", \"kiwi\"]\n",
    "vegtables = [\"potatos\", \"onion\", \"kale\"]\n",
    "dirty_dozens = [fruits, vegtables]\n",
    "print(dirty_dozens)\n",
    "print(dirty_dozens[1][0])"
   ]
  },
  {
   "cell_type": "code",
   "execution_count": 58,
   "id": "addc433b-4df5-4e07-8fa9-19c97372aed2",
   "metadata": {},
   "outputs": [
    {
     "name": "stdout",
     "output_type": "stream",
     "text": [
      "Welcome to Rock Paper Scissors Game\n"
     ]
    },
    {
     "name": "stdin",
     "output_type": "stream",
     "text": [
      "What do you choose? Type 0 for Rock, 1 for Paper or 2 for Scissors 0\n"
     ]
    },
    {
     "name": "stdout",
     "output_type": "stream",
     "text": [
      "draw\n"
     ]
    }
   ],
   "source": [
    "# Rock Paper Scissors Game\n",
    "import random\n",
    "print(\"Welcome to Rock Paper Scissors Game\")\n",
    "\n",
    "my_choice=int(input(\"What do you choose? Type 0 for Rock, 1 for Paper or 2 for Scissors\"))\n",
    "computer_choice = random.randint(0,2)\n",
    "if my_choice == 0:\n",
    "    if computer_choice == 1:\n",
    "        print(\"you loose\")\n",
    "    elif computer_choice == 2:\n",
    "        print(\"you won\")\n",
    "    elif computer_choice == 0:\n",
    "        print(\"draw\")\n",
    "    else: \n",
    "        print(\"your input is wrong\")\n",
    "\n",
    "elif my_choice == 1:\n",
    "    if computer_choice == 0:\n",
    "        print(\"you won\")\n",
    "    elif computer_choice ==1:\n",
    "        print(\"draw\")\n",
    "    elif computer_choice == 2:\n",
    "        print(\"you loose\")\n",
    "    else: \n",
    "        print(\"you entered wrong input\")\n",
    "elif my_choice == 2:\n",
    "    if computer_choice == 0:\n",
    "        print(\"you loose\")\n",
    "    elif computer_choice ==1:\n",
    "        print(\"you won\")\n",
    "    elif computer_choice ==2:\n",
    "        print(\"draw\")\n",
    "    else:\n",
    "        print(\"wrong entry\")\n",
    "\n",
    "else:\n",
    "    print(\"your entry is wrong, please check\")\n",
    "\n",
    "        \n",
    "\n"
   ]
  },
  {
   "cell_type": "code",
   "execution_count": 68,
   "id": "2151ce00-5294-4549-8dfc-8d2ec6c9433a",
   "metadata": {},
   "outputs": [
    {
     "name": "stdout",
     "output_type": "stream",
     "text": [
      "Apple\n",
      "Apple pie\n",
      "Peach\n",
      "Peach pie\n",
      "Pear\n",
      "Pear pie\n",
      "['Apple', 'Peach', 'Pear']\n"
     ]
    }
   ],
   "source": [
    "## For Looos\n",
    "\n",
    "fruits = [\"Apple\", \"Peach\", \"Pear\"]\n",
    "for fruit in fruits:\n",
    "    print(fruit)\n",
    "    print(fruit + \" pie\")\n",
    "print(fruits)"
   ]
  },
  {
   "cell_type": "code",
   "execution_count": 92,
   "id": "744440b7-bd47-4388-921c-392df12ff05f",
   "metadata": {},
   "outputs": [
    {
     "name": "stdout",
     "output_type": "stream",
     "text": [
      "1683\n",
      "199\n"
     ]
    }
   ],
   "source": [
    "\n",
    "# For Loops, Sum and Highest score\n",
    "\n",
    "student_scores = [150, 142, 185, 120, 171, 184, 149, 24, 59, 68, 199, 78, 65, 89]\n",
    "# total summ\n",
    "\n",
    "total_sum = 0  # Renamed from sum1 to total_sum to avoid conflict with the built-in sum function\n",
    "for score in student_scores:\n",
    "    total_sum += score\n",
    "print(total_sum)  # This prints the sum calculated in the loop\n",
    "#highest score\n",
    "hiscore = 0\n",
    "for score in student_scores:\n",
    "    if score > hiscore:\n",
    "        hiscore = score\n",
    "print(hiscore)"
   ]
  },
  {
   "cell_type": "code",
   "execution_count": 98,
   "id": "2b3d7ffc-d23e-48f3-9dfa-8ea46c172b97",
   "metadata": {},
   "outputs": [
    {
     "name": "stdout",
     "output_type": "stream",
     "text": [
      "5050\n"
     ]
    }
   ],
   "source": [
    "## for loops and the range() function\n",
    " # by default the range function steps throught all elemements from first to last\n",
    " ## if you add a 3rd parameter, which is step-size it uses the step size to scroll through with it\n",
    "sum = 0\n",
    "for number in range(1,101,1):\n",
    "    sum+=number\n",
    "print(sum)"
   ]
  },
  {
   "cell_type": "code",
   "execution_count": 100,
   "id": "af4d4048-fb24-4921-9b03-3b578d1327fb",
   "metadata": {},
   "outputs": [
    {
     "name": "stdout",
     "output_type": "stream",
     "text": [
      "Welcome to the PyPassword Generator!\n"
     ]
    },
    {
     "name": "stdin",
     "output_type": "stream",
     "text": [
      "How many letters would you like in your password?\n",
      " 4\n",
      "How many symbols would you like?\n",
      " 2\n",
      "How many numbers would you like?\n",
      " 2\n"
     ]
    },
    {
     "name": "stdout",
     "output_type": "stream",
     "text": [
      " FJYH$+83\n"
     ]
    }
   ],
   "source": [
    "# Python Password Generator with fixed order\n",
    "\n",
    "#Password Generator Project\n",
    "import random\n",
    "letters = ['a', 'b', 'c', 'd', 'e', 'f', 'g', 'h', 'i', 'j', 'k', 'l', 'm', 'n', 'o', 'p', 'q', 'r', 's', 't', 'u', 'v', 'w', 'x', 'y', 'z', 'A', 'B', 'C', 'D', 'E', 'F', 'G', 'H', 'I', 'J', 'K', 'L', 'M', 'N', 'O', 'P', 'Q', 'R', 'S', 'T', 'U', 'V', 'W', 'X', 'Y', 'Z']\n",
    "numbers = ['0', '1', '2', '3', '4', '5', '6', '7', '8', '9']\n",
    "symbols = ['!', '#', '$', '%', '&', '(', ')', '*', '+']\n",
    "\n",
    "print(\"Welcome to the PyPassword Generator!\")\n",
    "nr_letters= int(input(\"How many letters would you like in your password?\\n\")) \n",
    "nr_symbols = int(input(f\"How many symbols would you like?\\n\"))\n",
    "nr_numbers = int(input(f\"How many numbers would you like?\\n\"))\n",
    "\n",
    "#Eazy Level - Order not randomised:\n",
    "#e.g. 4 letter, 2 symbol, 2 number = JduE&!91\n",
    "password = \" \"\n",
    "for letter in range(0, nr_letters):\n",
    "    password+= random.choice(letters)\n",
    "\n",
    "for symbol in range(0, nr_symbols):\n",
    "    password+= random.choice(symbols)\n",
    "\n",
    "for number in range(0, nr_numbers):\n",
    "    password+= random.choice(numbers)\n",
    "\n",
    "print(password)\n",
    "\n",
    "#Hard Level - Order of characters randomised:\n",
    "#e.g. 4 letter, 2 symbol, 2 number = g^2jk8&P\n"
   ]
  },
  {
   "cell_type": "code",
   "execution_count": null,
   "id": "07ed2fdf-a24b-4bf2-b75c-483426b2ad83",
   "metadata": {},
   "outputs": [],
   "source": [
    "#Password Generator Project with randomized order of characters (symbol, numbers, letters)\n",
    "import random\n",
    "letters = ['a', 'b', 'c', 'd', 'e', 'f', 'g', 'h', 'i', 'j', 'k', 'l', 'm', 'n', 'o', 'p', 'q', 'r', 's', 't', 'u', 'v', 'w', 'x', 'y', 'z', 'A', 'B', 'C', 'D', 'E', 'F', 'G', 'H', 'I', 'J', 'K', 'L', 'M', 'N', 'O', 'P', 'Q', 'R', 'S', 'T', 'U', 'V', 'W', 'X', 'Y', 'Z']\n",
    "numbers = ['0', '1', '2', '3', '4', '5', '6', '7', '8', '9']\n",
    "symbols = ['!', '#', '$', '%', '&', '(', ')', '*', '+']\n",
    "\n",
    "print(\"Welcome to the PyPassword Generator!\")\n",
    "nr_letters= int(input(\"How many letters would you like in your password?\\n\")) \n",
    "nr_symbols = int(input(f\"How many symbols would you like?\\n\"))\n",
    "nr_numbers = int(input(f\"How many numbers would you like?\\n\"))\n",
    "\n",
    "#e.g. 4 letter, 2 symbol, 2 number = JduE&!91\n",
    "password = []  #creation of empty list\n",
    "\n",
    "for letter in range(0, nr_letters):\n",
    "    password.append(random.choice(letters))  ##adding one character(letter) to the list \n",
    "    # password+=random.choice(letters)  #alternative variant without append\n",
    "\n",
    "for symbol in range(0, nr_symbols):\n",
    "    password.append(random.choice(symbols)) ##adding one symbol to the list\n",
    "\n",
    "for number in range(0, nr_numbers):\n",
    "    password.append(random.choice(numbers)) ##adding one symbol to the list\n",
    "\n",
    "random.shuffle(password) ##shuffle the list elements within the lst\n",
    "\n",
    "my_password = \"\"  #creating a string out of list elements with for loop\n",
    "for char in password:\n",
    "    my_password +=char\n",
    "\n",
    "#my_password = ''.join(password)   ## alternative way with .join function\n",
    "\n",
    "print(f\"Your password is{my_password}\")"
   ]
  },
  {
   "cell_type": "code",
   "execution_count": null,
   "id": "be4e9487-c7bb-4475-bd3e-83231e9e3633",
   "metadata": {},
   "outputs": [],
   "source": []
  },
  {
   "cell_type": "code",
   "execution_count": null,
   "id": "efcb4622-4341-4739-b1ab-20b87691090c",
   "metadata": {},
   "outputs": [],
   "source": []
  }
 ],
 "metadata": {
  "kernelspec": {
   "display_name": "Python 3 (ipykernel)",
   "language": "python",
   "name": "python3"
  },
  "language_info": {
   "codemirror_mode": {
    "name": "ipython",
    "version": 3
   },
   "file_extension": ".py",
   "mimetype": "text/x-python",
   "name": "python",
   "nbconvert_exporter": "python",
   "pygments_lexer": "ipython3",
   "version": "3.12.4"
  }
 },
 "nbformat": 4,
 "nbformat_minor": 5
}
